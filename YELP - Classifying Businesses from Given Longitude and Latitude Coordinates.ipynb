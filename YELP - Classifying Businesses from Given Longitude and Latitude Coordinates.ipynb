{
 "cells": [
  {
   "cell_type": "code",
   "execution_count": 1,
   "metadata": {},
   "outputs": [],
   "source": [
    "import pandas as pd\n",
    "import matplotlib.pyplot as plt\n",
    "import descartes\n",
    "import geopandas as gpd\n",
    "from shapely.geometry import Point, Polygon\n",
    "import tqdm\n",
    "import random\n",
    "import collections\n",
    "import math\n",
    "pd.set_option('display.max_columns', 500)\n",
    "\n",
    "# CHECK IF ALEX'S DATA HAS A BUG !"
   ]
  },
  {
   "cell_type": "code",
   "execution_count": null,
   "metadata": {},
   "outputs": [],
   "source": [
    "# Create a Polygon the order of the vertices matters!\n",
    "polyy = Polygon([(0, 0), (0,1), (1,1), (1,0)])"
   ]
  },
  {
   "cell_type": "code",
   "execution_count": null,
   "metadata": {},
   "outputs": [],
   "source": [
    "point1 = Point(0.5, 0.5)\n",
    "point2 = Point(2, 0)"
   ]
  },
  {
   "cell_type": "code",
   "execution_count": null,
   "metadata": {},
   "outputs": [],
   "source": [
    "print(point1.within(polyy))\n",
    "print(point2.within(polyy))\n",
    "print(polyy.contains(point1))\n",
    "print(polyy.contains(point2))"
   ]
  },
  {
   "cell_type": "code",
   "execution_count": null,
   "metadata": {},
   "outputs": [],
   "source": [
    "print(polyy.centroid)"
   ]
  },
  {
   "cell_type": "code",
   "execution_count": 2,
   "metadata": {
    "scrolled": true
   },
   "outputs": [
    {
     "name": "stderr",
     "output_type": "stream",
     "text": [
      "C:\\Users\\Kait L\\Anaconda3\\lib\\site-packages\\IPython\\core\\interactiveshell.py:3049: DtypeWarning: Columns (7) have mixed types. Specify dtype option on import or set low_memory=False.\n",
      "  interactivity=interactivity, compiler=compiler, result=result)\n"
     ]
    }
   ],
   "source": [
    "businesses = pd.read_csv(\"Businesses (1).csv\")\n",
    "bf = pd.read_csv('business_text_stripped.csv')\n",
    "toronto_map = gpd.read_file('Neighbourhoods.geojson')"
   ]
  },
  {
   "cell_type": "code",
   "execution_count": null,
   "metadata": {},
   "outputs": [],
   "source": [
    "businesses.head(4)"
   ]
  },
  {
   "cell_type": "code",
   "execution_count": null,
   "metadata": {},
   "outputs": [],
   "source": [
    "toronto_map.head(4)"
   ]
  },
  {
   "cell_type": "code",
   "execution_count": null,
   "metadata": {},
   "outputs": [],
   "source": [
    "print(businesses.iloc[0,30]) #30 - longitude\n",
    "print(businesses.iloc[0,13]) #31 - latitude"
   ]
  },
  {
   "cell_type": "code",
   "execution_count": 3,
   "metadata": {},
   "outputs": [],
   "source": [
    "id=[]\n",
    "latitude=[]\n",
    "longitude=[]\n",
    "\n",
    "for x in range(businesses.shape[0]):\n",
    "    id.append(businesses.iloc[x,13])\n",
    "    longitude.append(businesses.iloc[x,30])\n",
    "    latitude.append(businesses.iloc[x,31])\n",
    "    \n",
    "df = pd.DataFrame(\n",
    "    {'ID': id,\n",
    "     'Latitude': latitude,\n",
    "     'Longitude': longitude})\n",
    "\n",
    "gdf = gpd.GeoDataFrame(df, geometry= gpd.points_from_xy(df.Longitude, df.Latitude))"
   ]
  },
  {
   "cell_type": "code",
   "execution_count": 4,
   "metadata": {},
   "outputs": [],
   "source": [
    "business_neighbourhood = {}\n",
    "b_names = businesses.iloc[:,13]\n",
    "for key in b_names:\n",
    "    business_neighbourhood[key] = float('nan')"
   ]
  },
  {
   "cell_type": "code",
   "execution_count": 5,
   "metadata": {},
   "outputs": [],
   "source": [
    "for i in range(gdf.shape[0]): #for businesses\n",
    "    for j in range(toronto_map.shape[0]): # for neighbourhood\n",
    "        if (toronto_map.loc[j, 'geometry']).contains(gdf.iloc[i,3]) == True:\n",
    "            business_neighbourhood[businesses.iloc[i,13]] = toronto_map.iloc[j,6]"
   ]
  },
  {
   "cell_type": "code",
   "execution_count": 6,
   "metadata": {},
   "outputs": [],
   "source": [
    "# Alex's Code\n",
    "A_neighbourhood = {}\n",
    "for i in range(gdf.shape[0]): #for businesses\n",
    "    A_neighbourhood[businesses.iloc[i,13]] = businesses.iloc[i,29]"
   ]
  },
  {
   "cell_type": "code",
   "execution_count": 7,
   "metadata": {},
   "outputs": [],
   "source": [
    "def is_this_NAN(variable):\n",
    "    if variable != variable:\n",
    "        return True\n",
    "    else:\n",
    "        return False"
   ]
  },
  {
   "cell_type": "code",
   "execution_count": null,
   "metadata": {},
   "outputs": [],
   "source": [
    "incorrectValCount = 0\n",
    "nanCount = 0\n",
    "equalCount = 0\n",
    "for key in A_neighbourhood.keys():\n",
    "    if A_neighbourhood[key] == business_neighbourhood[key]:\n",
    "        equalCount += 1\n",
    "    elif A_neighbourhood[key] != business_neighbourhood[key]:\n",
    "        if (is_this_NAN(A_neighbourhood[key])==True and is_this_NAN(business_neighbourhood[key])==True):\n",
    "            nanCount += 1\n",
    "        if (is_this_NAN(A_neighbourhood[key])==False or is_this_NAN(business_neighbourhood[key])==False):\n",
    "            incorrectValCount += 1"
   ]
  },
  {
   "cell_type": "code",
   "execution_count": null,
   "metadata": {},
   "outputs": [],
   "source": [
    "print(\"incorrect: \", incorrectValCount)\n",
    "print(\"equal: \", equalCount)\n",
    "print(\"nan: \",nanCount)"
   ]
  },
  {
   "cell_type": "code",
   "execution_count": null,
   "metadata": {},
   "outputs": [],
   "source": [
    "print(\"length of A_neighbourhood: \", len(A_neighbourhood))\n",
    "print(\"length of business_neighbourhood: \", len(business_neighbourhood))\n",
    "print(\"length of businesses.csv: \",businesses.shape[0])\n",
    "print(\"length of business comments csv: \", bf.shape[0])\n",
    "# this is ok because we care about the 32022 that have comments collected"
   ]
  },
  {
   "cell_type": "code",
   "execution_count": null,
   "metadata": {},
   "outputs": [],
   "source": []
  }
 ],
 "metadata": {
  "kernelspec": {
   "display_name": "Python 3",
   "language": "python",
   "name": "python3"
  },
  "language_info": {
   "codemirror_mode": {
    "name": "ipython",
    "version": 3
   },
   "file_extension": ".py",
   "mimetype": "text/x-python",
   "name": "python",
   "nbconvert_exporter": "python",
   "pygments_lexer": "ipython3",
   "version": "3.7.3"
  }
 },
 "nbformat": 4,
 "nbformat_minor": 2
}
