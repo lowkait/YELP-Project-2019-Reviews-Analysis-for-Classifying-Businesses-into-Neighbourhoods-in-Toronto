{
 "cells": [
  {
   "cell_type": "markdown",
   "metadata": {},
   "source": [
    "## 650-1 Test Case Resuts"
   ]
  },
  {
   "cell_type": "markdown",
   "metadata": {},
   "source": [
    "#### Variables: <br> \n",
    "Test Size = 0.33  <br> \n",
    " o Size of training set = 21454  <br> \n",
    " o Size of testing set = 10568  <br> \n",
    "Number of words used for TFIDF = 650 (reasoning: represents 60% of the area under the graph for Zipf's Law)  <br> \n",
    " <br> \n",
    "### RESULT:  <br> \n",
    "Accuracy: 0.051005  <br> \n",
    "Number of neighbourhoods predicted correctly: 539 (out of 10568)  <br> \n",
    "The accuracy is very low, so I wanted to find out why by taking a look at the data that was correctly identified and those that were not. <br>"
   ]
  },
  {
   "cell_type": "code",
   "execution_count": 134,
   "metadata": {},
   "outputs": [],
   "source": [
    "plt.rcParams['figure.figsize'] = [15, 5]"
   ]
  },
  {
   "cell_type": "markdown",
   "metadata": {},
   "source": [
    "## Neighbourhoods that were identified correctly <br>\n",
    "27 neighbourhoods were labelled correctly at least once, however, not all were identified correctly for these neighbourhoods. There should have been 140 different neighbourhoods identified, but only 89 were identified."
   ]
  },
  {
   "cell_type": "code",
   "execution_count": 166,
   "metadata": {},
   "outputs": [
    {
     "data": {
      "image/png": "[encoded data removed]",
      "text/plain": [
       "<Figure size 1080x360 with 1 Axes>"
      ]
     },
     "metadata": {
      "needs_background": "light"
     },
     "output_type": "display_data"
    }
   ],
   "source": [
    "n_groups = 27\n",
    "\n",
    "fig, ax = plt.subplots()\n",
    "index = np.arange(n_groups)\n",
    "bar_width = 0.1\n",
    "opacity = 0.9\n",
    "\n",
    "rects1 = plt.bar(index, data_answerkey, bar_width,\n",
    "alpha=opacity,\n",
    "color='y',\n",
    "label='Actual Neighbourhood (Answer Key)')\n",
    "\n",
    "rects2 = plt.bar(index + bar_width, data_correct, bar_width,\n",
    "alpha=opacity,\n",
    "color='g',\n",
    "label='Test Results')\n",
    "\n",
    "plt.xlabel('Neighbourhoods (label shown below)')\n",
    "plt.ylabel('Number of test points identified')\n",
    "plt.title('Comparison of Correctly Identified Neighbourhoods and the Actual Number That Should Have Been Identified')\n",
    "plt.xticks(index + bar_width, data_label)\n",
    "plt.legend()\n",
    "\n",
    "plt.tight_layout()\n",
    "plt.show()"
   ]
  },
  {
   "cell_type": "code",
   "execution_count": 160,
   "metadata": {},
   "outputs": [
    {
     "data": {
      "text/plain": [
       "{1: 'York University Heights (27)',\n",
       " 2: 'Bay Street Corridor (76)',\n",
       " 3: 'Waterfront Communities-The Island (77)',\n",
       " 4: 'Annex (95)',\n",
       " 5: 'South Riverdale (70)',\n",
       " 6: 'Kensington-Chinatown (78)',\n",
       " 7: 'Yorkdale-Glen Park (31)',\n",
       " 8: 'Islington-City Centre West (14)',\n",
       " 9: 'Mount Pleasant West (104)',\n",
       " 10: 'Trinity-Bellwoods (81)',\n",
       " 11: 'Milliken (130)',\n",
       " 12: 'Church-Yonge Corridor (75)',\n",
       " 13: 'Wexford/Maryvale (119)',\n",
       " 14: 'West Humber-Clairville (1)',\n",
       " 15: 'Agincourt South-Malvern West (128)',\n",
       " 16: 'Dorset Park (126)',\n",
       " 17: 'Woburn (137)',\n",
       " 18: 'Mount Pleasant East (99)',\n",
       " 19: 'Moss Park (73)',\n",
       " 20: 'Playter Estates-Danforth (67)',\n",
       " 21: 'Dufferin Grove (83)',\n",
       " 22: 'Stonegate-Queensway (16)',\n",
       " 23: 'Niagara (82)',\n",
       " 24: 'Bendale (127)',\n",
       " 25: 'Roncesvalles (86)',\n",
       " 26: 'Clanton Park (33)',\n",
       " 27: 'High Park-Swansea (87)'}"
      ]
     },
     "execution_count": 160,
     "metadata": {},
     "output_type": "execute_result"
    }
   ],
   "source": [
    "neighbourhoods_by_label"
   ]
  },
  {
   "cell_type": "markdown",
   "metadata": {},
   "source": [
    "# Considering the Neighbourhoods that are \"Nan\" or outside of the neighbourhoods listed"
   ]
  },
  {
   "cell_type": "markdown",
   "metadata": {},
   "source": [
    "#### Correct amount of \"nan\" = 2380 <br>\n",
    "#### Amount of \"nan\" identified = 1 <br>\n",
    "These are the businesses that are outside any of the neighbourhood categories. Instead of categorizing the test businesses as 'nan', they were categorized into incorrect existing neighbourhoods."
   ]
  },
  {
   "cell_type": "markdown",
   "metadata": {},
   "source": [
    "# Further Steps and Questions After This Test Case"
   ]
  },
  {
   "cell_type": "markdown",
   "metadata": {},
   "source": [
    "#### 1) It was shown in the small-scale test case that a larger number of words would increase accuracy, so run another test case with a larger number of words. If the accuracy is worse, or the same, then take another look at the code. <br>\n",
    "#### 2) Are the words I am using even considered useful? What other constraints can I put to make the words more helpful in identifying neighbourhoods? <br>\n",
    "#### 3) A portion of the test data points were actually supposed to be labelled 'nan'. Determine how I can consider this in my code. <br>\n",
    "#### 4) Look more into the trends and possibilities of why some neighbourhoods were identified many times (incorrectly), for example, 'Waterfront Communities-The Island (77)': 2630 and 'Bay Street Corridor (76)': 2323. <br>\n",
    "#### 5) Try testing with a smaller test size and larger training set."
   ]
  },
  {
   "cell_type": "markdown",
   "metadata": {},
   "source": [
    "## Code"
   ]
  },
  {
   "cell_type": "code",
   "execution_count": 37,
   "metadata": {},
   "outputs": [],
   "source": [
    "filename = \"YELP-Test-650-1-c.pkl\"\n",
    "dill.load_session(filename)"
   ]
  },
  {
   "cell_type": "code",
   "execution_count": 34,
   "metadata": {},
   "outputs": [],
   "source": [
    "import pandas as pd\n",
    "import numpy as np\n",
    "from nltk.corpus import stopwords \n",
    "from tqdm import tqdm\n",
    "from collections import *\n",
    "import operator\n",
    "import itertools\n",
    "import dill\n",
    "import geopandas as gpd\n",
    "import matplotlib.pyplot as plt\n",
    "import descartes\n",
    "from shapely.geometry import Point, Polygon\n",
    "import math\n",
    "from scipy import sparse\n",
    "from sklearn.model_selection import train_test_split\n",
    "pd.set_option('display.max_columns', 500)"
   ]
  },
  {
   "cell_type": "code",
   "execution_count": 20,
   "metadata": {},
   "outputs": [],
   "source": [
    "total_correct = (accuracy_650_1+accuracy_650_2+accuracy_650_3+accuracy_650_4)/4"
   ]
  },
  {
   "cell_type": "code",
   "execution_count": 21,
   "metadata": {},
   "outputs": [
    {
     "data": {
      "text/plain": [
       "0.051005"
      ]
     },
     "execution_count": 21,
     "metadata": {},
     "output_type": "execute_result"
    }
   ],
   "source": [
    "total_correct"
   ]
  },
  {
   "cell_type": "code",
   "execution_count": 23,
   "metadata": {},
   "outputs": [
    {
     "data": {
      "text/plain": [
       "539.02084"
      ]
     },
     "execution_count": 23,
     "metadata": {},
     "output_type": "execute_result"
    }
   ],
   "source": [
    "total_correct*len(X_test)"
   ]
  },
  {
   "cell_type": "code",
   "execution_count": 38,
   "metadata": {
    "scrolled": false
   },
   "outputs": [
    {
     "name": "stdout",
     "output_type": "stream",
     "text": [
      "2380\n",
      "1\n"
     ]
    }
   ],
   "source": [
    "print(total_nan)\n",
    "print(total_nan_test)"
   ]
  },
  {
   "cell_type": "markdown",
   "metadata": {},
   "source": [
    "### 1: Answer Key Counter"
   ]
  },
  {
   "cell_type": "code",
   "execution_count": 84,
   "metadata": {
    "scrolled": true
   },
   "outputs": [
    {
     "name": "stderr",
     "output_type": "stream",
     "text": [
      "100%|██████████| 2642/2642 [00:00<00:00, 18027.84it/s]\n",
      "100%|██████████| 2642/2642 [00:00<00:00, 201993.28it/s]\n",
      "100%|██████████| 2642/2642 [00:00<00:00, 330106.68it/s]\n",
      "100%|██████████| 2642/2642 [00:00<00:00, 262032.42it/s]\n"
     ]
    }
   ],
   "source": [
    "answerkey_neighbourhoods = []\n",
    "for key in tqdm(kNearest_650_1.keys()):\n",
    "    if isinstance(official_neighbourhoods_byName[key],str) == True:\n",
    "        answerkey_neighbourhoods.append(official_neighbourhoods_byName[key])\n",
    "for key in tqdm(kNearest_650_2.keys()):\n",
    "    if isinstance(official_neighbourhoods_byName[key],str) == True:\n",
    "        answerkey_neighbourhoods.append(official_neighbourhoods_byName[key])\n",
    "for key in tqdm(kNearest_650_3.keys()):\n",
    "    if isinstance(official_neighbourhoods_byName[key],str) == True:\n",
    "        answerkey_neighbourhoods.append(official_neighbourhoods_byName[key])\n",
    "for key in tqdm(kNearest_650_4.keys()):\n",
    "    if isinstance(official_neighbourhoods_byName[key],str) == True:\n",
    "        answerkey_neighbourhoods.append(official_neighbourhoods_byName[key])\n",
    "\n",
    "counting_answerkey = Counter(answerkey_neighbourhoods)"
   ]
  },
  {
   "cell_type": "markdown",
   "metadata": {},
   "source": [
    "### 2a: Counter for results from entire test case"
   ]
  },
  {
   "cell_type": "code",
   "execution_count": 95,
   "metadata": {},
   "outputs": [
    {
     "name": "stderr",
     "output_type": "stream",
     "text": [
      "100%|██████████| 2642/2642 [00:00<00:00, 44300.77it/s]\n",
      "100%|██████████| 2642/2642 [00:00<00:00, 330126.35it/s]\n",
      "100%|██████████| 2642/2642 [00:00<00:00, 659761.32it/s]\n",
      "100%|██████████| 2642/2642 [00:00<00:00, 528312.33it/s]\n"
     ]
    }
   ],
   "source": [
    "test_neighbourhoods = []\n",
    "for key in tqdm(kNearest_650_1.keys()):\n",
    "    if isinstance(kNearest_650_1[key],str) == True:\n",
    "        test_neighbourhoods.append(kNearest_650_1[key])\n",
    "for key in tqdm(kNearest_650_2.keys()):\n",
    "    if isinstance(kNearest_650_2[key],str) == True:\n",
    "        test_neighbourhoods.append(kNearest_650_2[key])\n",
    "for key in tqdm(kNearest_650_3.keys()):\n",
    "    if isinstance(kNearest_650_3[key],str) == True:\n",
    "        test_neighbourhoods.append(kNearest_650_3[key])\n",
    "for key in tqdm(kNearest_650_4.keys()):\n",
    "    if isinstance(kNearest_650_4[key],str) == True:\n",
    "        test_neighbourhoods.append(kNearest_650_4[key])\n",
    "    \n",
    "counting_test = Counter(test_neighbourhoods)"
   ]
  },
  {
   "cell_type": "markdown",
   "metadata": {},
   "source": [
    "### 2b: Counter for neighbourhoods we got correct"
   ]
  },
  {
   "cell_type": "code",
   "execution_count": 87,
   "metadata": {},
   "outputs": [
    {
     "name": "stderr",
     "output_type": "stream",
     "text": [
      "100%|██████████| 2642/2642 [00:00<00:00, 330273.94it/s]\n",
      "100%|██████████| 2642/2642 [00:00<00:00, 660036.40it/s]\n",
      "100%|██████████| 2642/2642 [00:00<00:00, 665266.92it/s]\n",
      "100%|██████████| 2642/2642 [00:00<00:00, 220121.39it/s]\n"
     ]
    }
   ],
   "source": [
    "correct_neighbourhoods = []\n",
    "for key in tqdm(kNearest_650_1.keys()):\n",
    "    if kNearest_650_1[key] == official_neighbourhoods_byName[key]:\n",
    "        correct_neighbourhoods.append(official_neighbourhoods_byName[key])\n",
    "for key in tqdm(kNearest_650_2.keys()):\n",
    "    if kNearest_650_2[key] == official_neighbourhoods_byName[key]:\n",
    "        correct_neighbourhoods.append(official_neighbourhoods_byName[key])\n",
    "for key in tqdm(kNearest_650_3.keys()):\n",
    "    if kNearest_650_3[key] == official_neighbourhoods_byName[key]:\n",
    "        correct_neighbourhoods.append(official_neighbourhoods_byName[key])\n",
    "for key in tqdm(kNearest_650_4.keys()):\n",
    "    if kNearest_650_4[key] == official_neighbourhoods_byName[key]:\n",
    "        correct_neighbourhoods.append(official_neighbourhoods_byName[key])\n",
    "        \n",
    "counting_correct = Counter(correct_neighbourhoods)"
   ]
  },
  {
   "cell_type": "code",
   "execution_count": 96,
   "metadata": {},
   "outputs": [],
   "source": [
    "all_neighbourhoods_returned = set()\n",
    "for key in counting_test.keys():\n",
    "    all_neighbourhoods_returned.add(key)\n",
    "for key2 in counting_answerkey.keys():\n",
    "    all_neighbourhoods_returned.add(key2)"
   ]
  },
  {
   "cell_type": "code",
   "execution_count": 157,
   "metadata": {},
   "outputs": [
    {
     "name": "stderr",
     "output_type": "stream",
     "text": [
      "100%|██████████| 27/27 [00:00<00:00, 26963.38it/s]\n"
     ]
    }
   ],
   "source": [
    "# Write data for Set 1 and 2b\n",
    "label = 1\n",
    "data_label = []\n",
    "data_answerkey = []\n",
    "data_correct = []\n",
    "data_neighbourhoods = []\n",
    "neighbourhoods_by_label = dict()\n",
    "for key in tqdm(counting_correct.keys()):\n",
    "    data_neighbourhoods.append(key)\n",
    "    data_label.append(label)\n",
    "    if key in counting_answerkey.keys():\n",
    "        data_answerkey.append(counting_answerkey[key])\n",
    "    if key not in counting_answerkey.keys():\n",
    "        data_answerkey.append(0)\n",
    "    data_correct.append(counting_correct[key])\n",
    "    label +=1\n",
    "\n",
    "for number in data_label:\n",
    "    neighbourhoods_by_label[number] = data_neighbourhoods[number-1]"
   ]
  }
 ],
 "metadata": {
  "kernelspec": {
   "display_name": "Python 3",
   "language": "python",
   "name": "python3"
  },
  "language_info": {
   "codemirror_mode": {
    "name": "ipython",
    "version": 3
   },
   "file_extension": ".py",
   "mimetype": "text/x-python",
   "name": "python",
   "nbconvert_exporter": "python",
   "pygments_lexer": "ipython3",
   "version": "3.7.3"
  }
 },
 "nbformat": 4,
 "nbformat_minor": 2
}
